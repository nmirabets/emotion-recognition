{
 "cells": [
  {
   "cell_type": "code",
   "execution_count": 1,
   "metadata": {},
   "outputs": [],
   "source": [
    "import os\n",
    "import shutil\n",
    "import random"
   ]
  },
  {
   "cell_type": "code",
   "execution_count": 4,
   "metadata": {},
   "outputs": [
    {
     "name": "stdout",
     "output_type": "stream",
     "text": [
      "/Users/nmirabets\n"
     ]
    }
   ],
   "source": [
    "cd"
   ]
  },
  {
   "cell_type": "code",
   "execution_count": 5,
   "metadata": {},
   "outputs": [],
   "source": [
    "input_train_folder = \"/Users/nmirabets/Documents/data-science/repos/emotion-recognition/data/fer-2013/train\"\n",
    "output_balanced_folder = \"/Users/nmirabets/Documents/data-science/repos/emotion-recognition/data/balanced-fer-2013\""
   ]
  },
  {
   "cell_type": "code",
   "execution_count": 6,
   "metadata": {},
   "outputs": [],
   "source": [
    "if not os.path.exists(output_balanced_folder):\n",
    "    os.makedirs(output_balanced_folder)\n"
   ]
  },
  {
   "cell_type": "code",
   "execution_count": 9,
   "metadata": {},
   "outputs": [],
   "source": [
    "class_folders = ['happy', 'sad', 'fear', 'surprise', 'neutral', 'angry', 'disgust']\n",
    "max_samples_per_class = max([len(os.listdir(os.path.join(input_train_folder, cls))) for cls in class_folders])\n",
    "\n",
    "for cls in class_folders:\n",
    "    class_folder_path = os.path.join(input_train_folder, cls)\n",
    "    output_class_folder = os.path.join(output_balanced_folder, cls)\n",
    "    \n",
    "    if not os.path.exists(output_class_folder):\n",
    "        os.makedirs(output_class_folder)\n",
    "    \n",
    "    class_images = os.listdir(class_folder_path)\n",
    "    num_samples = len(class_images)\n",
    "    oversampling_factor = max_samples_per_class // num_samples\n",
    "    \n",
    "    for image in class_images:\n",
    "        src_image_path = os.path.join(class_folder_path, image)\n",
    "        \n",
    "        for i in range(oversampling_factor):\n",
    "            new_image_name = f\"{image.split('.')[0]}_{i}.{image.split('.')[-1]}\"\n",
    "            dest_image_path = os.path.join(output_class_folder, new_image_name)\n",
    "            shutil.copy(src_image_path, dest_image_path)\n"
   ]
  }
 ],
 "metadata": {
  "kernelspec": {
   "display_name": ".venv",
   "language": "python",
   "name": "python3"
  },
  "language_info": {
   "codemirror_mode": {
    "name": "ipython",
    "version": 3
   },
   "file_extension": ".py",
   "mimetype": "text/x-python",
   "name": "python",
   "nbconvert_exporter": "python",
   "pygments_lexer": "ipython3",
   "version": "3.11.4"
  },
  "orig_nbformat": 4
 },
 "nbformat": 4,
 "nbformat_minor": 2
}
